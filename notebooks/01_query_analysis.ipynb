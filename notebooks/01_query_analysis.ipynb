{
 "cells": [
  {
   "cell_type": "code",
   "execution_count": 1,
   "metadata": {},
   "outputs": [],
   "source": [
    "from BSBI.BSBI import BSBIIndex\n",
    "from BSBI.postings import CompressedPostings"
   ]
  },
  {
   "cell_type": "code",
   "execution_count": 3,
   "metadata": {},
   "outputs": [],
   "source": [
    "BSBI_instance = BSBIIndex(\n",
    "    \"../pa1-skeleton/pa1-data\",\n",
    "    output_dir=\"../output_dir_compressed\",\n",
    "    postings_encoding=CompressedPostings,\n",
    ")"
   ]
  },
  {
   "cell_type": "code",
   "execution_count": 9,
   "metadata": {},
   "outputs": [
    {
     "name": "stdout",
     "output_type": "stream",
     "text": [
      "95 ms ± 2.46 ms per loop (mean ± std. dev. of 7 runs, 10 loops each)\n"
     ]
    }
   ],
   "source": [
    "%timeit BSBI_instance.retrieve('boolean retrieval')"
   ]
  },
  {
   "cell_type": "code",
   "execution_count": 8,
   "metadata": {},
   "outputs": [
    {
     "name": "stdout",
     "output_type": "stream",
     "text": [
      "102 ms ± 3.76 ms per loop (mean ± std. dev. of 7 runs, 10 loops each)\n"
     ]
    }
   ],
   "source": [
    "## Make query slower by adding a frequent term\n",
    "%timeit BSBI_instance.retrieve('the retrieval')"
   ]
  },
  {
   "cell_type": "code",
   "execution_count": 15,
   "metadata": {},
   "outputs": [
    {
     "name": "stdout",
     "output_type": "stream",
     "text": [
      "208 ms ± 10.4 ms per loop (mean ± std. dev. of 7 runs, 1 loop each)\n"
     ]
    }
   ],
   "source": [
    "# Make query twice as slow by adding top most frequent english words\n",
    "%timeit BSBI_instance.retrieve(\"the be to of and a in tha have i it for not on with he as you do at this\")"
   ]
  },
  {
   "cell_type": "code",
   "execution_count": 16,
   "metadata": {},
   "outputs": [
    {
     "name": "stdout",
     "output_type": "stream",
     "text": [
      "98.2 ms ± 3.94 ms per loop (mean ± std. dev. of 7 runs, 10 loops each)\n"
     ]
    }
   ],
   "source": [
    "# Show this slowdown caused by adding common words and not other factors\n",
    "# The slowing part is `sorted_intersect`\n",
    "\n",
    "# It's not the NUMBER of words, it's their frequency.\n",
    "%timeit BSBI_instance.retrieve(\"incredulous amazed excited scientific implementation consequence significantly platipus enlightenment intuition instruction formidable notion inspiring accumulate transformed assistance maximize novel galaxy charging\")"
   ]
  },
  {
   "cell_type": "code",
   "execution_count": 17,
   "metadata": {},
   "outputs": [
    {
     "name": "stdout",
     "output_type": "stream",
     "text": [
      "192 ms ± 11.5 ms per loop (mean ± std. dev. of 7 runs, 1 loop each)\n"
     ]
    }
   ],
   "source": [
    "# Adding a new term to make q2 faster\n",
    "%timeit BSBI_instance.retrieve(\"enlightenmentthe be to of and a in tha have i it for not on with he as you do at this\")"
   ]
  }
 ],
 "metadata": {
  "kernelspec": {
   "display_name": ".venv",
   "language": "python",
   "name": "python3"
  },
  "language_info": {
   "codemirror_mode": {
    "name": "ipython",
    "version": 3
   },
   "file_extension": ".py",
   "mimetype": "text/x-python",
   "name": "python",
   "nbconvert_exporter": "python",
   "pygments_lexer": "ipython3",
   "version": "3.12.4"
  }
 },
 "nbformat": 4,
 "nbformat_minor": 2
}
