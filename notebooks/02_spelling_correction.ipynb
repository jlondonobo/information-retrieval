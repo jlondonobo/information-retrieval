{
 "cells": [
  {
   "cell_type": "markdown",
   "metadata": {},
   "source": [
    "# Manual eval of spelling correction"
   ]
  },
  {
   "cell_type": "code",
   "execution_count": 7,
   "metadata": {},
   "outputs": [],
   "source": [
    "from spelling_corrector.language_model import LanguageModel\n",
    "from pathlib import Path\n",
    "from math import exp"
   ]
  },
  {
   "cell_type": "code",
   "execution_count": 5,
   "metadata": {},
   "outputs": [
    {
     "name": "stderr",
     "output_type": "stream",
     "text": [
      "10it [00:11,  1.12s/it]\n"
     ]
    }
   ],
   "source": [
    "corpus_dir = Path.cwd().parent / \"pa2-data\" / \"corpus\"\n",
    "lm = LanguageModel(corpus_dir)"
   ]
  },
  {
   "cell_type": "code",
   "execution_count": 11,
   "metadata": {},
   "outputs": [
    {
     "name": "stdout",
     "output_type": "stream",
     "text": [
      "0.01403099182142838\n",
      "0.03630408881519347\n"
     ]
    }
   ],
   "source": [
    "print(exp(lm.get_unigram_logp(\"stanford\")))\n",
    "print(exp(lm.get_unigram_logp(\"the\")))"
   ]
  },
  {
   "cell_type": "code",
   "execution_count": 28,
   "metadata": {},
   "outputs": [
    {
     "name": "stdout",
     "output_type": "stream",
     "text": [
      "Prob: 0.5481739150230867\n",
      "Counts: 26228\n",
      "----\n",
      "Prob: 0.0012614318177400757\n",
      "Counts: 451\n"
     ]
    }
   ],
   "source": [
    "print(\n",
    "    f'Prob: {exp(lm.get_bigram_logp(\"department\", \"of\"))}\\nCounts: {lm.bigram_counts[(\"department\", \"of\")]}'\n",
    ")\n",
    "print(\"----\")\n",
    "print(\n",
    "    f'Prob: {exp(lm.get_bigram_logp(\"stanford\", \"has\"))}\\nCounts: {lm.bigram_counts[(\"stanford\", \"has\")]}'\n",
    ")"
   ]
  }
 ],
 "metadata": {
  "kernelspec": {
   "display_name": ".venv",
   "language": "python",
   "name": "python3"
  },
  "language_info": {
   "codemirror_mode": {
    "name": "ipython",
    "version": 3
   },
   "file_extension": ".py",
   "mimetype": "text/x-python",
   "name": "python",
   "nbconvert_exporter": "python",
   "pygments_lexer": "ipython3",
   "version": "3.12.4"
  }
 },
 "nbformat": 4,
 "nbformat_minor": 2
}
